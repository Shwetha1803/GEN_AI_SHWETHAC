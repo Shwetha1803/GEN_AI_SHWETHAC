{
 "cells": [
  {
   "cell_type": "markdown",
   "id": "52bfa26f",
   "metadata": {},
   "source": [
    "## Install Required Packages"
   ]
  },
  {
   "cell_type": "code",
   "execution_count": 1,
   "id": "44671d00",
   "metadata": {},
   "outputs": [
    {
     "name": "stdout",
     "output_type": "stream",
     "text": [
      "Defaulting to user installation because normal site-packages is not writeable\n",
      "Requirement already satisfied: SpeechRecognition in c:\\users\\vrpcs\\appdata\\roaming\\python\\python39\\site-packages (3.10.3)\n",
      "Requirement already satisfied: pyaudio in c:\\users\\vrpcs\\appdata\\roaming\\python\\python39\\site-packages (0.2.14)\n",
      "Requirement already satisfied: typing-extensions in c:\\programdata\\anaconda3\\lib\\site-packages (from SpeechRecognition) (4.1.1)\n",
      "Requirement already satisfied: requests>=2.26.0 in c:\\programdata\\anaconda3\\lib\\site-packages (from SpeechRecognition) (2.27.1)\n",
      "Requirement already satisfied: charset-normalizer~=2.0.0 in c:\\programdata\\anaconda3\\lib\\site-packages (from requests>=2.26.0->SpeechRecognition) (2.0.4)\n",
      "Requirement already satisfied: urllib3<1.27,>=1.21.1 in c:\\programdata\\anaconda3\\lib\\site-packages (from requests>=2.26.0->SpeechRecognition) (1.26.9)\n",
      "Requirement already satisfied: certifi>=2017.4.17 in c:\\programdata\\anaconda3\\lib\\site-packages (from requests>=2.26.0->SpeechRecognition) (2021.10.8)\n",
      "Requirement already satisfied: idna<4,>=2.5 in c:\\users\\vrpcs\\appdata\\roaming\\python\\python39\\site-packages (from requests>=2.26.0->SpeechRecognition) (2.10)\n"
     ]
    }
   ],
   "source": [
    "!pip install SpeechRecognition pyaudio"
   ]
  },
  {
   "cell_type": "code",
   "execution_count": 2,
   "id": "af3516d8",
   "metadata": {},
   "outputs": [
    {
     "name": "stdout",
     "output_type": "stream",
     "text": [
      "Defaulting to user installation because normal site-packages is not writeable\n",
      "Requirement already satisfied: deep-translator in c:\\users\\vrpcs\\appdata\\roaming\\python\\python39\\site-packages (1.11.4)\n",
      "Requirement already satisfied: beautifulsoup4<5.0.0,>=4.9.1 in c:\\programdata\\anaconda3\\lib\\site-packages (from deep-translator) (4.11.1)\n",
      "Requirement already satisfied: requests<3.0.0,>=2.23.0 in c:\\programdata\\anaconda3\\lib\\site-packages (from deep-translator) (2.27.1)\n",
      "Requirement already satisfied: soupsieve>1.2 in c:\\programdata\\anaconda3\\lib\\site-packages (from beautifulsoup4<5.0.0,>=4.9.1->deep-translator) (2.3.1)\n",
      "Requirement already satisfied: idna<4,>=2.5 in c:\\users\\vrpcs\\appdata\\roaming\\python\\python39\\site-packages (from requests<3.0.0,>=2.23.0->deep-translator) (2.10)\n",
      "Requirement already satisfied: certifi>=2017.4.17 in c:\\programdata\\anaconda3\\lib\\site-packages (from requests<3.0.0,>=2.23.0->deep-translator) (2021.10.8)\n",
      "Requirement already satisfied: urllib3<1.27,>=1.21.1 in c:\\programdata\\anaconda3\\lib\\site-packages (from requests<3.0.0,>=2.23.0->deep-translator) (1.26.9)\n",
      "Requirement already satisfied: charset-normalizer~=2.0.0 in c:\\programdata\\anaconda3\\lib\\site-packages (from requests<3.0.0,>=2.23.0->deep-translator) (2.0.4)\n"
     ]
    }
   ],
   "source": [
    "!pip install -U deep-translator"
   ]
  },
  {
   "cell_type": "code",
   "execution_count": 3,
   "id": "170beb20",
   "metadata": {},
   "outputs": [
    {
     "name": "stdout",
     "output_type": "stream",
     "text": [
      "Defaulting to user installation because normal site-packages is not writeable\n",
      "Requirement already satisfied: gtts in c:\\users\\vrpcs\\appdata\\roaming\\python\\python39\\site-packages (2.5.1)\n",
      "Requirement already satisfied: click<8.2,>=7.1 in c:\\programdata\\anaconda3\\lib\\site-packages (from gtts) (8.0.4)\n",
      "Requirement already satisfied: requests<3,>=2.27 in c:\\programdata\\anaconda3\\lib\\site-packages (from gtts) (2.27.1)\n",
      "Requirement already satisfied: colorama in c:\\programdata\\anaconda3\\lib\\site-packages (from click<8.2,>=7.1->gtts) (0.4.4)\n",
      "Requirement already satisfied: idna<4,>=2.5 in c:\\users\\vrpcs\\appdata\\roaming\\python\\python39\\site-packages (from requests<3,>=2.27->gtts) (2.10)\n",
      "Requirement already satisfied: charset-normalizer~=2.0.0 in c:\\programdata\\anaconda3\\lib\\site-packages (from requests<3,>=2.27->gtts) (2.0.4)\n",
      "Requirement already satisfied: urllib3<1.27,>=1.21.1 in c:\\programdata\\anaconda3\\lib\\site-packages (from requests<3,>=2.27->gtts) (1.26.9)\n",
      "Requirement already satisfied: certifi>=2017.4.17 in c:\\programdata\\anaconda3\\lib\\site-packages (from requests<3,>=2.27->gtts) (2021.10.8)\n"
     ]
    }
   ],
   "source": [
    "!pip install gtts"
   ]
  },
  {
   "cell_type": "code",
   "execution_count": 4,
   "id": "e797da0b",
   "metadata": {},
   "outputs": [
    {
     "name": "stdout",
     "output_type": "stream",
     "text": [
      "Defaulting to user installation because normal site-packages is not writeable\n",
      "Requirement already satisfied: pygame in c:\\users\\vrpcs\\appdata\\roaming\\python\\python39\\site-packages (2.5.2)\n"
     ]
    }
   ],
   "source": [
    "!pip install pygame"
   ]
  },
  {
   "cell_type": "markdown",
   "id": "3e1ca93d",
   "metadata": {},
   "source": [
    "## Import Libraries"
   ]
  },
  {
   "cell_type": "code",
   "execution_count": 5,
   "id": "e856ce7a",
   "metadata": {},
   "outputs": [],
   "source": [
    "import speech_recognition as sr"
   ]
  },
  {
   "cell_type": "code",
   "execution_count": 6,
   "id": "f82f61f1",
   "metadata": {},
   "outputs": [],
   "source": [
    "from deep_translator import GoogleTranslator"
   ]
  },
  {
   "cell_type": "code",
   "execution_count": 7,
   "id": "017a81d0",
   "metadata": {},
   "outputs": [],
   "source": [
    "from gtts import gTTS"
   ]
  },
  {
   "cell_type": "code",
   "execution_count": 8,
   "id": "ce6632f2",
   "metadata": {},
   "outputs": [
    {
     "name": "stdout",
     "output_type": "stream",
     "text": [
      "pygame 2.5.2 (SDL 2.28.3, Python 3.9.12)\n",
      "Hello from the pygame community. https://www.pygame.org/contribute.html\n"
     ]
    }
   ],
   "source": [
    "import pygame"
   ]
  },
  {
   "cell_type": "code",
   "execution_count": 9,
   "id": "db883b84",
   "metadata": {},
   "outputs": [],
   "source": [
    "import os"
   ]
  },
  {
   "cell_type": "markdown",
   "id": "cb7d9acf",
   "metadata": {},
   "source": [
    "## Create Recognizer and Translator Object"
   ]
  },
  {
   "cell_type": "code",
   "execution_count": 10,
   "id": "dd711972",
   "metadata": {},
   "outputs": [],
   "source": [
    "r = sr.Recognizer()"
   ]
  },
  {
   "cell_type": "code",
   "execution_count": 11,
   "id": "c7f7adae",
   "metadata": {},
   "outputs": [],
   "source": [
    "translator=GoogleTranslator(source='auto', target='ta')"
   ]
  },
  {
   "cell_type": "markdown",
   "id": "6028b686",
   "metadata": {},
   "source": [
    "## Language Translator"
   ]
  },
  {
   "cell_type": "code",
   "execution_count": null,
   "id": "72f16291",
   "metadata": {},
   "outputs": [
    {
     "name": "stdout",
     "output_type": "stream",
     "text": [
      "----Language Translator----\n",
      "\n",
      "\n",
      "Speak now!\n",
      "good morning\n",
      "காலை வணக்கம்\n",
      "\n",
      "Speak now!\n",
      "have a great day today\n",
      "இன்று ஒரு நல்ல நாள்\n",
      "\n",
      "Speak now!\n",
      "how was your day\n",
      "உங்கள் நாள் எப்படி இருந்தது\n",
      "\n",
      "Speak now!\n",
      "my name is Shweta\n",
      "என் பெயர் ஸ்வேதா\n",
      "\n",
      "Speak now!\n",
      "I am studying BE Computer Science Engineering\n",
      "நான் பிஇ கம்ப்யூட்டர் சயின்ஸ் இன்ஜினியரிங் படித்து வருகிறேன்\n",
      "\n",
      "Speak now!\n",
      "Could not Understand\n",
      "நான் பிஇ கம்ப்யூட்டர் சயின்ஸ் இன்ஜினியரிங் படித்து வருகிறேன்\n",
      "\n",
      "Speak now!\n",
      "thank you\n",
      "நன்றி\n",
      "\n",
      "Speak now!\n"
     ]
    }
   ],
   "source": [
    "print(\"----Language Translator----\\n\")\n",
    "i=1\n",
    "while True:\n",
    "    with sr.Microphone() as source:\n",
    "        print(\"\\nSpeak now!\")\n",
    "        audio = r.listen(source)\n",
    "        try:\n",
    "            speech_text = r.recognize_google(audio)\n",
    "            print(speech_text)\n",
    "            if (speech_text == \"exit\"):\n",
    "                break\n",
    "        except sr.UnknownValueError:\n",
    "            print(\"Could not Understand\")\n",
    "        except sr.RequestError:\n",
    "            print(\"Could not request result from google\")\n",
    "        translated_text = translator.translate(speech_text)\n",
    "        print(translated_text)\n",
    "        voice=gTTS(translated_text , lang='ta')\n",
    "        play=\"voice\"+str(i)+\".mp3\"\n",
    "        voice.save(play)\n",
    "        pygame.mixer.init()\n",
    "        pygame.mixer.music.load(play)\n",
    "        pygame.mixer.music.play()\n",
    "        i=i+1"
   ]
  }
 ],
 "metadata": {
  "kernelspec": {
   "display_name": "Python 3 (ipykernel)",
   "language": "python",
   "name": "python3"
  },
  "language_info": {
   "codemirror_mode": {
    "name": "ipython",
    "version": 3
   },
   "file_extension": ".py",
   "mimetype": "text/x-python",
   "name": "python",
   "nbconvert_exporter": "python",
   "pygments_lexer": "ipython3",
   "version": "3.9.12"
  }
 },
 "nbformat": 4,
 "nbformat_minor": 5
}
